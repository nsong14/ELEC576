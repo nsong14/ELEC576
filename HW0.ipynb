{
 "cells": [
  {
   "cell_type": "markdown",
   "id": "7bfe5544",
   "metadata": {},
   "source": [
    "#### ELEC 576 HW0 \n",
    "#### Nanjia Song"
   ]
  },
  {
   "cell_type": "code",
   "execution_count": 3,
   "id": "ee4a5321",
   "metadata": {},
   "outputs": [
    {
     "name": "stdout",
     "output_type": "stream",
     "text": [
      "\n",
      "     active environment : base\n",
      "    active env location : /Users/nanjia/miniconda3\n",
      "            shell level : 1\n",
      "       user config file : /Users/nanjia/.condarc\n",
      " populated config files : /Users/nanjia/miniconda3/.condarc\n",
      "                          /Users/nanjia/.condarc\n",
      "          conda version : 25.3.1\n",
      "    conda-build version : not installed\n",
      "         python version : 3.12.9.final.0\n",
      "                 solver : classic\n",
      "       virtual packages : __archspec=1=m1\n",
      "                          __conda=25.3.1=0\n",
      "                          __osx=15.6.1=0\n",
      "                          __unix=0=0\n",
      "       base environment : /Users/nanjia/miniconda3  (writable)\n",
      "      conda av data dir : /Users/nanjia/miniconda3/etc/conda\n",
      "  conda av metadata url : None\n",
      "           channel URLs : https://conda.anaconda.org/conda-forge/osx-arm64\n",
      "                          https://conda.anaconda.org/conda-forge/noarch\n",
      "                          https://conda.anaconda.org/bioconda/osx-arm64\n",
      "                          https://conda.anaconda.org/bioconda/noarch\n",
      "                          https://repo.anaconda.com/pkgs/main/osx-arm64\n",
      "                          https://repo.anaconda.com/pkgs/main/noarch\n",
      "                          https://repo.anaconda.com/pkgs/r/osx-arm64\n",
      "                          https://repo.anaconda.com/pkgs/r/noarch\n",
      "          package cache : /Users/nanjia/miniconda3/pkgs\n",
      "                          /Users/nanjia/.conda/pkgs\n",
      "       envs directories : /Users/nanjia/miniconda3/envs\n",
      "                          /Users/nanjia/.conda/envs\n",
      "               platform : osx-arm64\n",
      "             user-agent : conda/25.3.1 requests/2.32.3 CPython/3.12.9 Darwin/24.6.0 OSX/15.6.1 aau/0.5.0 c/. s/. e/.\n",
      "                UID:GID : 501:20\n",
      "             netrc file : None\n",
      "           offline mode : False\n",
      "\n"
     ]
    }
   ],
   "source": [
    "# Task 1\n",
    "!conda info"
   ]
  },
  {
   "cell_type": "code",
   "execution_count": 17,
   "id": "3efcb825",
   "metadata": {},
   "outputs": [
    {
     "name": "stdout",
     "output_type": "stream",
     "text": [
      "2\n"
     ]
    }
   ],
   "source": [
    "# Task 2\n",
    "import numpy as np\n",
    "import scipy.linalg\n",
    "\n",
    "# Define a simple 2x3 matrix\n",
    "a = np.array([\n",
    "    [1, 2, 3],\n",
    "    [4, 5, 6]\n",
    "])\n",
    "n = 2\n",
    "\n",
    "print(np.ndim(a))"
   ]
  },
  {
   "cell_type": "code",
   "execution_count": 24,
   "id": "e6cc86a9",
   "metadata": {},
   "outputs": [
    {
     "data": {
      "text/plain": [
       "6"
      ]
     },
     "execution_count": 24,
     "metadata": {},
     "output_type": "execute_result"
    }
   ],
   "source": [
    "np.size(a)"
   ]
  },
  {
   "cell_type": "code",
   "execution_count": 19,
   "id": "14b5ee4d",
   "metadata": {},
   "outputs": [
    {
     "data": {
      "text/plain": [
       "(2, 3)"
      ]
     },
     "execution_count": 19,
     "metadata": {},
     "output_type": "execute_result"
    }
   ],
   "source": [
    "np.shape(a)"
   ]
  },
  {
   "cell_type": "code",
   "execution_count": 20,
   "id": "d141d0ff",
   "metadata": {},
   "outputs": [
    {
     "data": {
      "text/plain": [
       "3"
      ]
     },
     "execution_count": 20,
     "metadata": {},
     "output_type": "execute_result"
    }
   ],
   "source": [
    "a.shape[n-1]"
   ]
  },
  {
   "cell_type": "code",
   "execution_count": 21,
   "id": "8a2b87df",
   "metadata": {},
   "outputs": [
    {
     "data": {
      "text/plain": [
       "array([[1., 2., 3.],\n",
       "       [4., 5., 6.]])"
      ]
     },
     "execution_count": 21,
     "metadata": {},
     "output_type": "execute_result"
    }
   ],
   "source": [
    "np.array([[1., 2., 3.], [4., 5., 6.]])"
   ]
  },
  {
   "cell_type": "code",
   "execution_count": 25,
   "id": "c4ce6116",
   "metadata": {},
   "outputs": [
    {
     "data": {
      "text/plain": [
       "array([[ 1,  2,  3,  7,  8],\n",
       "       [ 4,  5,  6,  9, 10],\n",
       "       [11, 12, 13, 14, 15]])"
      ]
     },
     "execution_count": 25,
     "metadata": {},
     "output_type": "execute_result"
    }
   ],
   "source": [
    "b = np.array([\n",
    "    [7, 8],\n",
    "    [9, 10]\n",
    "])\n",
    "\n",
    "c = np.array([\n",
    "    [11, 12, 13]\n",
    "])\n",
    "\n",
    "d = np.array([\n",
    "    [14, 15]\n",
    "])\n",
    "\n",
    "np.block([[a, b], [c, d]])"
   ]
  },
  {
   "cell_type": "code",
   "execution_count": 30,
   "id": "4321063a",
   "metadata": {},
   "outputs": [
    {
     "data": {
      "text/plain": [
       "array([13, 14, 15])"
      ]
     },
     "execution_count": 30,
     "metadata": {},
     "output_type": "execute_result"
    }
   ],
   "source": [
    "a[-1]"
   ]
  },
  {
   "cell_type": "code",
   "execution_count": 35,
   "id": "5822549c",
   "metadata": {},
   "outputs": [
    {
     "data": {
      "text/plain": [
       "np.int64(14)"
      ]
     },
     "execution_count": 35,
     "metadata": {},
     "output_type": "execute_result"
    }
   ],
   "source": [
    "a = np.arange(1, 82).reshape(9, 9)\n",
    "\n",
    "a[1, 4]"
   ]
  },
  {
   "cell_type": "code",
   "execution_count": 36,
   "id": "05167231",
   "metadata": {},
   "outputs": [
    {
     "data": {
      "text/plain": [
       "array([10, 11, 12, 13, 14, 15, 16, 17, 18])"
      ]
     },
     "execution_count": 36,
     "metadata": {},
     "output_type": "execute_result"
    }
   ],
   "source": [
    "a[1]"
   ]
  },
  {
   "cell_type": "code",
   "execution_count": 37,
   "id": "db52404c",
   "metadata": {},
   "outputs": [
    {
     "data": {
      "text/plain": [
       "array([[ 1,  2,  3,  4,  5,  6,  7,  8,  9],\n",
       "       [10, 11, 12, 13, 14, 15, 16, 17, 18],\n",
       "       [19, 20, 21, 22, 23, 24, 25, 26, 27],\n",
       "       [28, 29, 30, 31, 32, 33, 34, 35, 36],\n",
       "       [37, 38, 39, 40, 41, 42, 43, 44, 45]])"
      ]
     },
     "execution_count": 37,
     "metadata": {},
     "output_type": "execute_result"
    }
   ],
   "source": [
    "a[0:5]"
   ]
  },
  {
   "cell_type": "code",
   "execution_count": 38,
   "id": "fa77cccd",
   "metadata": {},
   "outputs": [
    {
     "data": {
      "text/plain": [
       "array([[37, 38, 39, 40, 41, 42, 43, 44, 45],\n",
       "       [46, 47, 48, 49, 50, 51, 52, 53, 54],\n",
       "       [55, 56, 57, 58, 59, 60, 61, 62, 63],\n",
       "       [64, 65, 66, 67, 68, 69, 70, 71, 72],\n",
       "       [73, 74, 75, 76, 77, 78, 79, 80, 81]])"
      ]
     },
     "execution_count": 38,
     "metadata": {},
     "output_type": "execute_result"
    }
   ],
   "source": [
    "a[-5:]"
   ]
  },
  {
   "cell_type": "code",
   "execution_count": 39,
   "id": "5e4de837",
   "metadata": {},
   "outputs": [
    {
     "data": {
      "text/plain": [
       "array([[ 5,  6,  7,  8,  9],\n",
       "       [14, 15, 16, 17, 18],\n",
       "       [23, 24, 25, 26, 27]])"
      ]
     },
     "execution_count": 39,
     "metadata": {},
     "output_type": "execute_result"
    }
   ],
   "source": [
    "a[0:3, 4:9]"
   ]
  },
  {
   "cell_type": "code",
   "execution_count": 40,
   "id": "0c0bf39e",
   "metadata": {},
   "outputs": [
    {
     "data": {
      "text/plain": [
       "array([[10, 12],\n",
       "       [28, 30],\n",
       "       [37, 39]])"
      ]
     },
     "execution_count": 40,
     "metadata": {},
     "output_type": "execute_result"
    }
   ],
   "source": [
    "a[np.ix_([1, 3, 4], [0, 2])]"
   ]
  },
  {
   "cell_type": "code",
   "execution_count": 41,
   "id": "9e255a18",
   "metadata": {},
   "outputs": [
    {
     "data": {
      "text/plain": [
       "array([[19, 20, 21, 22, 23, 24, 25, 26, 27],\n",
       "       [37, 38, 39, 40, 41, 42, 43, 44, 45],\n",
       "       [55, 56, 57, 58, 59, 60, 61, 62, 63],\n",
       "       [73, 74, 75, 76, 77, 78, 79, 80, 81]])"
      ]
     },
     "execution_count": 41,
     "metadata": {},
     "output_type": "execute_result"
    }
   ],
   "source": [
    "a[2:21:2,:]"
   ]
  },
  {
   "cell_type": "code",
   "execution_count": 42,
   "id": "b50a2907",
   "metadata": {},
   "outputs": [
    {
     "data": {
      "text/plain": [
       "array([[ 1,  2,  3,  4,  5,  6,  7,  8,  9],\n",
       "       [19, 20, 21, 22, 23, 24, 25, 26, 27],\n",
       "       [37, 38, 39, 40, 41, 42, 43, 44, 45],\n",
       "       [55, 56, 57, 58, 59, 60, 61, 62, 63],\n",
       "       [73, 74, 75, 76, 77, 78, 79, 80, 81]])"
      ]
     },
     "execution_count": 42,
     "metadata": {},
     "output_type": "execute_result"
    }
   ],
   "source": [
    "a[::2, :]"
   ]
  },
  {
   "cell_type": "code",
   "execution_count": 43,
   "id": "d4b85930",
   "metadata": {},
   "outputs": [
    {
     "data": {
      "text/plain": [
       "array([[73, 74, 75, 76, 77, 78, 79, 80, 81],\n",
       "       [64, 65, 66, 67, 68, 69, 70, 71, 72],\n",
       "       [55, 56, 57, 58, 59, 60, 61, 62, 63],\n",
       "       [46, 47, 48, 49, 50, 51, 52, 53, 54],\n",
       "       [37, 38, 39, 40, 41, 42, 43, 44, 45],\n",
       "       [28, 29, 30, 31, 32, 33, 34, 35, 36],\n",
       "       [19, 20, 21, 22, 23, 24, 25, 26, 27],\n",
       "       [10, 11, 12, 13, 14, 15, 16, 17, 18],\n",
       "       [ 1,  2,  3,  4,  5,  6,  7,  8,  9]])"
      ]
     },
     "execution_count": 43,
     "metadata": {},
     "output_type": "execute_result"
    }
   ],
   "source": [
    "a[::-1,:]"
   ]
  },
  {
   "cell_type": "code",
   "execution_count": 44,
   "id": "0179610e",
   "metadata": {},
   "outputs": [
    {
     "data": {
      "text/plain": [
       "array([[ 1,  2,  3,  4,  5,  6,  7,  8,  9],\n",
       "       [10, 11, 12, 13, 14, 15, 16, 17, 18],\n",
       "       [19, 20, 21, 22, 23, 24, 25, 26, 27],\n",
       "       [28, 29, 30, 31, 32, 33, 34, 35, 36],\n",
       "       [37, 38, 39, 40, 41, 42, 43, 44, 45],\n",
       "       [46, 47, 48, 49, 50, 51, 52, 53, 54],\n",
       "       [55, 56, 57, 58, 59, 60, 61, 62, 63],\n",
       "       [64, 65, 66, 67, 68, 69, 70, 71, 72],\n",
       "       [73, 74, 75, 76, 77, 78, 79, 80, 81],\n",
       "       [ 1,  2,  3,  4,  5,  6,  7,  8,  9]])"
      ]
     },
     "execution_count": 44,
     "metadata": {},
     "output_type": "execute_result"
    }
   ],
   "source": [
    "a[np.r_[:len(a),0]]"
   ]
  },
  {
   "cell_type": "code",
   "execution_count": 45,
   "id": "930e632c",
   "metadata": {},
   "outputs": [
    {
     "data": {
      "text/plain": [
       "array([[ 1, 10, 19, 28, 37, 46, 55, 64, 73],\n",
       "       [ 2, 11, 20, 29, 38, 47, 56, 65, 74],\n",
       "       [ 3, 12, 21, 30, 39, 48, 57, 66, 75],\n",
       "       [ 4, 13, 22, 31, 40, 49, 58, 67, 76],\n",
       "       [ 5, 14, 23, 32, 41, 50, 59, 68, 77],\n",
       "       [ 6, 15, 24, 33, 42, 51, 60, 69, 78],\n",
       "       [ 7, 16, 25, 34, 43, 52, 61, 70, 79],\n",
       "       [ 8, 17, 26, 35, 44, 53, 62, 71, 80],\n",
       "       [ 9, 18, 27, 36, 45, 54, 63, 72, 81]])"
      ]
     },
     "execution_count": 45,
     "metadata": {},
     "output_type": "execute_result"
    }
   ],
   "source": [
    "a.transpose()"
   ]
  },
  {
   "cell_type": "code",
   "execution_count": 47,
   "id": "0e0ece84",
   "metadata": {},
   "outputs": [
    {
     "data": {
      "text/plain": [
       "array([[ 1, 10, 19, 28, 37, 46, 55, 64, 73],\n",
       "       [ 2, 11, 20, 29, 38, 47, 56, 65, 74],\n",
       "       [ 3, 12, 21, 30, 39, 48, 57, 66, 75],\n",
       "       [ 4, 13, 22, 31, 40, 49, 58, 67, 76],\n",
       "       [ 5, 14, 23, 32, 41, 50, 59, 68, 77],\n",
       "       [ 6, 15, 24, 33, 42, 51, 60, 69, 78],\n",
       "       [ 7, 16, 25, 34, 43, 52, 61, 70, 79],\n",
       "       [ 8, 17, 26, 35, 44, 53, 62, 71, 80],\n",
       "       [ 9, 18, 27, 36, 45, 54, 63, 72, 81]])"
      ]
     },
     "execution_count": 47,
     "metadata": {},
     "output_type": "execute_result"
    }
   ],
   "source": [
    "a.conj().transpose()"
   ]
  },
  {
   "cell_type": "code",
   "execution_count": 54,
   "id": "b74d8ffe",
   "metadata": {},
   "outputs": [
    {
     "data": {
      "text/plain": [
       "array([[ 1485,  1440,  1395,  1350,  1305,  1260,  1215,  1170,  1125],\n",
       "       [ 5130,  5004,  4878,  4752,  4626,  4500,  4374,  4248,  4122],\n",
       "       [ 8775,  8568,  8361,  8154,  7947,  7740,  7533,  7326,  7119],\n",
       "       [12420, 12132, 11844, 11556, 11268, 10980, 10692, 10404, 10116],\n",
       "       [16065, 15696, 15327, 14958, 14589, 14220, 13851, 13482, 13113],\n",
       "       [19710, 19260, 18810, 18360, 17910, 17460, 17010, 16560, 16110],\n",
       "       [23355, 22824, 22293, 21762, 21231, 20700, 20169, 19638, 19107],\n",
       "       [27000, 26388, 25776, 25164, 24552, 23940, 23328, 22716, 22104],\n",
       "       [30645, 29952, 29259, 28566, 27873, 27180, 26487, 25794, 25101]])"
      ]
     },
     "execution_count": 54,
     "metadata": {},
     "output_type": "execute_result"
    }
   ],
   "source": [
    "b = np.arange(81, 0, -1).reshape(9, 9)\n",
    "a @ b"
   ]
  },
  {
   "cell_type": "code",
   "execution_count": 55,
   "id": "2a259abc",
   "metadata": {},
   "outputs": [
    {
     "data": {
      "text/plain": [
       "array([[  81,  160,  237,  312,  385,  456,  525,  592,  657],\n",
       "       [ 720,  781,  840,  897,  952, 1005, 1056, 1105, 1152],\n",
       "       [1197, 1240, 1281, 1320, 1357, 1392, 1425, 1456, 1485],\n",
       "       [1512, 1537, 1560, 1581, 1600, 1617, 1632, 1645, 1656],\n",
       "       [1665, 1672, 1677, 1680, 1681, 1680, 1677, 1672, 1665],\n",
       "       [1656, 1645, 1632, 1617, 1600, 1581, 1560, 1537, 1512],\n",
       "       [1485, 1456, 1425, 1392, 1357, 1320, 1281, 1240, 1197],\n",
       "       [1152, 1105, 1056, 1005,  952,  897,  840,  781,  720],\n",
       "       [ 657,  592,  525,  456,  385,  312,  237,  160,   81]])"
      ]
     },
     "execution_count": 55,
     "metadata": {},
     "output_type": "execute_result"
    }
   ],
   "source": [
    "a * b"
   ]
  },
  {
   "cell_type": "code",
   "execution_count": 56,
   "id": "62fd006a",
   "metadata": {},
   "outputs": [
    {
     "data": {
      "text/plain": [
       "array([[1.23456790e-02, 2.50000000e-02, 3.79746835e-02, 5.12820513e-02,\n",
       "        6.49350649e-02, 7.89473684e-02, 9.33333333e-02, 1.08108108e-01,\n",
       "        1.23287671e-01],\n",
       "       [1.38888889e-01, 1.54929577e-01, 1.71428571e-01, 1.88405797e-01,\n",
       "        2.05882353e-01, 2.23880597e-01, 2.42424242e-01, 2.61538462e-01,\n",
       "        2.81250000e-01],\n",
       "       [3.01587302e-01, 3.22580645e-01, 3.44262295e-01, 3.66666667e-01,\n",
       "        3.89830508e-01, 4.13793103e-01, 4.38596491e-01, 4.64285714e-01,\n",
       "        4.90909091e-01],\n",
       "       [5.18518519e-01, 5.47169811e-01, 5.76923077e-01, 6.07843137e-01,\n",
       "        6.40000000e-01, 6.73469388e-01, 7.08333333e-01, 7.44680851e-01,\n",
       "        7.82608696e-01],\n",
       "       [8.22222222e-01, 8.63636364e-01, 9.06976744e-01, 9.52380952e-01,\n",
       "        1.00000000e+00, 1.05000000e+00, 1.10256410e+00, 1.15789474e+00,\n",
       "        1.21621622e+00],\n",
       "       [1.27777778e+00, 1.34285714e+00, 1.41176471e+00, 1.48484848e+00,\n",
       "        1.56250000e+00, 1.64516129e+00, 1.73333333e+00, 1.82758621e+00,\n",
       "        1.92857143e+00],\n",
       "       [2.03703704e+00, 2.15384615e+00, 2.28000000e+00, 2.41666667e+00,\n",
       "        2.56521739e+00, 2.72727273e+00, 2.90476190e+00, 3.10000000e+00,\n",
       "        3.31578947e+00],\n",
       "       [3.55555556e+00, 3.82352941e+00, 4.12500000e+00, 4.46666667e+00,\n",
       "        4.85714286e+00, 5.30769231e+00, 5.83333333e+00, 6.45454545e+00,\n",
       "        7.20000000e+00],\n",
       "       [8.11111111e+00, 9.25000000e+00, 1.07142857e+01, 1.26666667e+01,\n",
       "        1.54000000e+01, 1.95000000e+01, 2.63333333e+01, 4.00000000e+01,\n",
       "        8.10000000e+01]])"
      ]
     },
     "execution_count": 56,
     "metadata": {},
     "output_type": "execute_result"
    }
   ],
   "source": [
    "a/b"
   ]
  },
  {
   "cell_type": "code",
   "execution_count": 57,
   "id": "8e16a6c7",
   "metadata": {},
   "outputs": [
    {
     "data": {
      "text/plain": [
       "array([[     1,      8,     27,     64,    125,    216,    343,    512,\n",
       "           729],\n",
       "       [  1000,   1331,   1728,   2197,   2744,   3375,   4096,   4913,\n",
       "          5832],\n",
       "       [  6859,   8000,   9261,  10648,  12167,  13824,  15625,  17576,\n",
       "         19683],\n",
       "       [ 21952,  24389,  27000,  29791,  32768,  35937,  39304,  42875,\n",
       "         46656],\n",
       "       [ 50653,  54872,  59319,  64000,  68921,  74088,  79507,  85184,\n",
       "         91125],\n",
       "       [ 97336, 103823, 110592, 117649, 125000, 132651, 140608, 148877,\n",
       "        157464],\n",
       "       [166375, 175616, 185193, 195112, 205379, 216000, 226981, 238328,\n",
       "        250047],\n",
       "       [262144, 274625, 287496, 300763, 314432, 328509, 343000, 357911,\n",
       "        373248],\n",
       "       [389017, 405224, 421875, 438976, 456533, 474552, 493039, 512000,\n",
       "        531441]])"
      ]
     },
     "execution_count": 57,
     "metadata": {},
     "output_type": "execute_result"
    }
   ],
   "source": [
    "a**3"
   ]
  },
  {
   "cell_type": "code",
   "execution_count": 58,
   "id": "8daa8505",
   "metadata": {},
   "outputs": [
    {
     "data": {
      "text/plain": [
       "array([[ True,  True,  True,  True,  True,  True,  True,  True,  True],\n",
       "       [ True,  True,  True,  True,  True,  True,  True,  True,  True],\n",
       "       [ True,  True,  True,  True,  True,  True,  True,  True,  True],\n",
       "       [ True,  True,  True,  True,  True,  True,  True,  True,  True],\n",
       "       [ True,  True,  True,  True,  True,  True,  True,  True,  True],\n",
       "       [ True,  True,  True,  True,  True,  True,  True,  True,  True],\n",
       "       [ True,  True,  True,  True,  True,  True,  True,  True,  True],\n",
       "       [ True,  True,  True,  True,  True,  True,  True,  True,  True],\n",
       "       [ True,  True,  True,  True,  True,  True,  True,  True,  True]])"
      ]
     },
     "execution_count": 58,
     "metadata": {},
     "output_type": "execute_result"
    }
   ],
   "source": [
    "(a > 0.5)"
   ]
  },
  {
   "cell_type": "code",
   "execution_count": 59,
   "id": "c24ec671",
   "metadata": {},
   "outputs": [
    {
     "data": {
      "text/plain": [
       "(array([0, 0, 0, 0, 0, 0, 0, 0, 0, 1, 1, 1, 1, 1, 1, 1, 1, 1, 2, 2, 2, 2,\n",
       "        2, 2, 2, 2, 2, 3, 3, 3, 3, 3, 3, 3, 3, 3, 4, 4, 4, 4, 4, 4, 4, 4,\n",
       "        4, 5, 5, 5, 5, 5, 5, 5, 5, 5, 6, 6, 6, 6, 6, 6, 6, 6, 6, 7, 7, 7,\n",
       "        7, 7, 7, 7, 7, 7, 8, 8, 8, 8, 8, 8, 8, 8, 8]),\n",
       " array([0, 1, 2, 3, 4, 5, 6, 7, 8, 0, 1, 2, 3, 4, 5, 6, 7, 8, 0, 1, 2, 3,\n",
       "        4, 5, 6, 7, 8, 0, 1, 2, 3, 4, 5, 6, 7, 8, 0, 1, 2, 3, 4, 5, 6, 7,\n",
       "        8, 0, 1, 2, 3, 4, 5, 6, 7, 8, 0, 1, 2, 3, 4, 5, 6, 7, 8, 0, 1, 2,\n",
       "        3, 4, 5, 6, 7, 8, 0, 1, 2, 3, 4, 5, 6, 7, 8]))"
      ]
     },
     "execution_count": 59,
     "metadata": {},
     "output_type": "execute_result"
    }
   ],
   "source": [
    "np.nonzero(a > 0.5)"
   ]
  },
  {
   "cell_type": "code",
   "execution_count": 61,
   "id": "b2cc3ead",
   "metadata": {},
   "outputs": [
    {
     "data": {
      "text/plain": [
       "array([[ 2,  3,  5,  7,  8],\n",
       "       [11, 12, 14, 16, 17],\n",
       "       [20, 21, 23, 25, 26],\n",
       "       [29, 30, 32, 34, 35],\n",
       "       [38, 39, 41, 43, 44],\n",
       "       [47, 48, 50, 52, 53],\n",
       "       [56, 57, 59, 61, 62],\n",
       "       [65, 66, 68, 70, 71],\n",
       "       [74, 75, 77, 79, 80]])"
      ]
     },
     "execution_count": 61,
     "metadata": {},
     "output_type": "execute_result"
    }
   ],
   "source": [
    "v = np.array([0.2, 0.6, 0.8, 0.3, 0.9, 0.1, 0.55, 0.7, 0.4])\n",
    "a[:,np.nonzero(v > 0.5)[0]]"
   ]
  },
  {
   "cell_type": "code",
   "execution_count": 62,
   "id": "e0faf4aa",
   "metadata": {},
   "outputs": [
    {
     "data": {
      "text/plain": [
       "array([[ 2,  3,  5,  7,  8],\n",
       "       [11, 12, 14, 16, 17],\n",
       "       [20, 21, 23, 25, 26],\n",
       "       [29, 30, 32, 34, 35],\n",
       "       [38, 39, 41, 43, 44],\n",
       "       [47, 48, 50, 52, 53],\n",
       "       [56, 57, 59, 61, 62],\n",
       "       [65, 66, 68, 70, 71],\n",
       "       [74, 75, 77, 79, 80]])"
      ]
     },
     "execution_count": 62,
     "metadata": {},
     "output_type": "execute_result"
    }
   ],
   "source": [
    "a[:, v.T > 0.5]"
   ]
  },
  {
   "cell_type": "code",
   "execution_count": 65,
   "id": "51d4cc79",
   "metadata": {},
   "outputs": [],
   "source": [
    "a[a < 0.5]=0"
   ]
  },
  {
   "cell_type": "code",
   "execution_count": 66,
   "id": "3c74e6e2",
   "metadata": {},
   "outputs": [
    {
     "data": {
      "text/plain": [
       "array([[ 1,  2,  3,  4,  5,  6,  7,  8,  9],\n",
       "       [10, 11, 12, 13, 14, 15, 16, 17, 18],\n",
       "       [19, 20, 21, 22, 23, 24, 25, 26, 27],\n",
       "       [28, 29, 30, 31, 32, 33, 34, 35, 36],\n",
       "       [37, 38, 39, 40, 41, 42, 43, 44, 45],\n",
       "       [46, 47, 48, 49, 50, 51, 52, 53, 54],\n",
       "       [55, 56, 57, 58, 59, 60, 61, 62, 63],\n",
       "       [64, 65, 66, 67, 68, 69, 70, 71, 72],\n",
       "       [73, 74, 75, 76, 77, 78, 79, 80, 81]])"
      ]
     },
     "execution_count": 66,
     "metadata": {},
     "output_type": "execute_result"
    }
   ],
   "source": [
    "a * (a > 0.5)"
   ]
  },
  {
   "cell_type": "code",
   "execution_count": 67,
   "id": "1b86c3f9",
   "metadata": {},
   "outputs": [],
   "source": [
    "a[:] = 3"
   ]
  },
  {
   "cell_type": "code",
   "execution_count": null,
   "id": "a186aaf2",
   "metadata": {},
   "outputs": [
    {
     "name": "stdout",
     "output_type": "stream",
     "text": [
      "[[1 2]\n",
      " [3 4]]\n"
     ]
    }
   ],
   "source": [
    "x = np.array([[1, 2],\n",
    "              [3, 4]])\n",
    "\n",
    "y = x.copy()\n",
    "print(y)"
   ]
  },
  {
   "cell_type": "code",
   "execution_count": 72,
   "id": "465b1f52",
   "metadata": {},
   "outputs": [
    {
     "name": "stdout",
     "output_type": "stream",
     "text": [
      "[3 4]\n"
     ]
    }
   ],
   "source": [
    "y = x[1, :].copy()\n",
    "print(y)"
   ]
  },
  {
   "cell_type": "code",
   "execution_count": 73,
   "id": "a3849b5f",
   "metadata": {},
   "outputs": [
    {
     "name": "stdout",
     "output_type": "stream",
     "text": [
      "[1 2 3 4]\n"
     ]
    }
   ],
   "source": [
    "y = x.flatten()\n",
    "print(y)"
   ]
  },
  {
   "cell_type": "code",
   "execution_count": 74,
   "id": "9df4493f",
   "metadata": {},
   "outputs": [
    {
     "data": {
      "text/plain": [
       "array([ 1.,  2.,  3.,  4.,  5.,  6.,  7.,  8.,  9., 10.])"
      ]
     },
     "execution_count": 74,
     "metadata": {},
     "output_type": "execute_result"
    }
   ],
   "source": [
    "np.arange(1., 11.)"
   ]
  },
  {
   "cell_type": "code",
   "execution_count": 75,
   "id": "e48a42ef",
   "metadata": {},
   "outputs": [
    {
     "data": {
      "text/plain": [
       "array([0., 1., 2., 3., 4., 5., 6., 7., 8., 9.])"
      ]
     },
     "execution_count": 75,
     "metadata": {},
     "output_type": "execute_result"
    }
   ],
   "source": [
    "np.arange(10.)"
   ]
  },
  {
   "cell_type": "code",
   "execution_count": 76,
   "id": "51625b44",
   "metadata": {},
   "outputs": [
    {
     "data": {
      "text/plain": [
       "array([[ 1.],\n",
       "       [ 2.],\n",
       "       [ 3.],\n",
       "       [ 4.],\n",
       "       [ 5.],\n",
       "       [ 6.],\n",
       "       [ 7.],\n",
       "       [ 8.],\n",
       "       [ 9.],\n",
       "       [10.]])"
      ]
     },
     "execution_count": 76,
     "metadata": {},
     "output_type": "execute_result"
    }
   ],
   "source": [
    "np.arange(1.,11.)[:, np.newaxis]"
   ]
  },
  {
   "cell_type": "code",
   "execution_count": 77,
   "id": "fcb651ec",
   "metadata": {},
   "outputs": [
    {
     "data": {
      "text/plain": [
       "array([[0., 0., 0., 0.],\n",
       "       [0., 0., 0., 0.],\n",
       "       [0., 0., 0., 0.]])"
      ]
     },
     "execution_count": 77,
     "metadata": {},
     "output_type": "execute_result"
    }
   ],
   "source": [
    "np.zeros((3, 4))"
   ]
  },
  {
   "cell_type": "code",
   "execution_count": 78,
   "id": "de23c8f4",
   "metadata": {},
   "outputs": [
    {
     "data": {
      "text/plain": [
       "array([[[0., 0., 0., 0., 0.],\n",
       "        [0., 0., 0., 0., 0.],\n",
       "        [0., 0., 0., 0., 0.],\n",
       "        [0., 0., 0., 0., 0.]],\n",
       "\n",
       "       [[0., 0., 0., 0., 0.],\n",
       "        [0., 0., 0., 0., 0.],\n",
       "        [0., 0., 0., 0., 0.],\n",
       "        [0., 0., 0., 0., 0.]],\n",
       "\n",
       "       [[0., 0., 0., 0., 0.],\n",
       "        [0., 0., 0., 0., 0.],\n",
       "        [0., 0., 0., 0., 0.],\n",
       "        [0., 0., 0., 0., 0.]]])"
      ]
     },
     "execution_count": 78,
     "metadata": {},
     "output_type": "execute_result"
    }
   ],
   "source": [
    "np.zeros((3, 4, 5))"
   ]
  },
  {
   "cell_type": "code",
   "execution_count": 79,
   "id": "9fb70e1c",
   "metadata": {},
   "outputs": [
    {
     "data": {
      "text/plain": [
       "array([[1., 1., 1., 1.],\n",
       "       [1., 1., 1., 1.],\n",
       "       [1., 1., 1., 1.]])"
      ]
     },
     "execution_count": 79,
     "metadata": {},
     "output_type": "execute_result"
    }
   ],
   "source": [
    "np.ones((3, 4))"
   ]
  },
  {
   "cell_type": "code",
   "execution_count": 80,
   "id": "e30f33e6",
   "metadata": {},
   "outputs": [
    {
     "data": {
      "text/plain": [
       "array([[1., 0., 0.],\n",
       "       [0., 1., 0.],\n",
       "       [0., 0., 1.]])"
      ]
     },
     "execution_count": 80,
     "metadata": {},
     "output_type": "execute_result"
    }
   ],
   "source": [
    "np.eye(3)"
   ]
  },
  {
   "cell_type": "code",
   "execution_count": 81,
   "id": "5ea33940",
   "metadata": {},
   "outputs": [
    {
     "data": {
      "text/plain": [
       "array([3, 3, 3, 3, 3, 3, 3, 3, 3])"
      ]
     },
     "execution_count": 81,
     "metadata": {},
     "output_type": "execute_result"
    }
   ],
   "source": [
    "np.diag(a)"
   ]
  },
  {
   "cell_type": "code",
   "execution_count": 82,
   "id": "23f2a18d",
   "metadata": {},
   "outputs": [
    {
     "data": {
      "text/plain": [
       "array([[0.2 , 0.  , 0.  , 0.  , 0.  , 0.  , 0.  , 0.  , 0.  ],\n",
       "       [0.  , 0.6 , 0.  , 0.  , 0.  , 0.  , 0.  , 0.  , 0.  ],\n",
       "       [0.  , 0.  , 0.8 , 0.  , 0.  , 0.  , 0.  , 0.  , 0.  ],\n",
       "       [0.  , 0.  , 0.  , 0.3 , 0.  , 0.  , 0.  , 0.  , 0.  ],\n",
       "       [0.  , 0.  , 0.  , 0.  , 0.9 , 0.  , 0.  , 0.  , 0.  ],\n",
       "       [0.  , 0.  , 0.  , 0.  , 0.  , 0.1 , 0.  , 0.  , 0.  ],\n",
       "       [0.  , 0.  , 0.  , 0.  , 0.  , 0.  , 0.55, 0.  , 0.  ],\n",
       "       [0.  , 0.  , 0.  , 0.  , 0.  , 0.  , 0.  , 0.7 , 0.  ],\n",
       "       [0.  , 0.  , 0.  , 0.  , 0.  , 0.  , 0.  , 0.  , 0.4 ]])"
      ]
     },
     "execution_count": 82,
     "metadata": {},
     "output_type": "execute_result"
    }
   ],
   "source": [
    "np.diag(v, 0)"
   ]
  },
  {
   "cell_type": "code",
   "execution_count": 83,
   "id": "78fe565a",
   "metadata": {},
   "outputs": [
    {
     "data": {
      "text/plain": [
       "array([[0.77395605, 0.43887844, 0.85859792, 0.69736803],\n",
       "       [0.09417735, 0.97562235, 0.7611397 , 0.78606431],\n",
       "       [0.12811363, 0.45038594, 0.37079802, 0.92676499]])"
      ]
     },
     "execution_count": 83,
     "metadata": {},
     "output_type": "execute_result"
    }
   ],
   "source": [
    "from numpy.random import default_rng\n",
    "rng = default_rng(42)\n",
    "rng.random((3, 4))"
   ]
  },
  {
   "cell_type": "code",
   "execution_count": 84,
   "id": "5512768a",
   "metadata": {},
   "outputs": [
    {
     "data": {
      "text/plain": [
       "array([1.        , 1.66666667, 2.33333333, 3.        ])"
      ]
     },
     "execution_count": 84,
     "metadata": {},
     "output_type": "execute_result"
    }
   ],
   "source": [
    "np.linspace(1,3,4)"
   ]
  },
  {
   "cell_type": "code",
   "execution_count": 85,
   "id": "7b91e358",
   "metadata": {},
   "outputs": [
    {
     "data": {
      "text/plain": [
       "array([[[0., 0., 0., 0., 0., 0.],\n",
       "        [1., 1., 1., 1., 1., 1.],\n",
       "        [2., 2., 2., 2., 2., 2.],\n",
       "        [3., 3., 3., 3., 3., 3.],\n",
       "        [4., 4., 4., 4., 4., 4.],\n",
       "        [5., 5., 5., 5., 5., 5.],\n",
       "        [6., 6., 6., 6., 6., 6.],\n",
       "        [7., 7., 7., 7., 7., 7.],\n",
       "        [8., 8., 8., 8., 8., 8.]],\n",
       "\n",
       "       [[0., 1., 2., 3., 4., 5.],\n",
       "        [0., 1., 2., 3., 4., 5.],\n",
       "        [0., 1., 2., 3., 4., 5.],\n",
       "        [0., 1., 2., 3., 4., 5.],\n",
       "        [0., 1., 2., 3., 4., 5.],\n",
       "        [0., 1., 2., 3., 4., 5.],\n",
       "        [0., 1., 2., 3., 4., 5.],\n",
       "        [0., 1., 2., 3., 4., 5.],\n",
       "        [0., 1., 2., 3., 4., 5.]]])"
      ]
     },
     "execution_count": 85,
     "metadata": {},
     "output_type": "execute_result"
    }
   ],
   "source": [
    "np.mgrid[0:9.,0:6.]"
   ]
  },
  {
   "cell_type": "code",
   "execution_count": 88,
   "id": "33cd9b38",
   "metadata": {},
   "outputs": [
    {
     "data": {
      "text/plain": [
       "(array([[0.],\n",
       "        [1.],\n",
       "        [2.],\n",
       "        [3.],\n",
       "        [4.],\n",
       "        [5.],\n",
       "        [6.],\n",
       "        [7.],\n",
       "        [8.]]),\n",
       " array([[0., 1., 2., 3., 4., 5.]]))"
      ]
     },
     "execution_count": 88,
     "metadata": {},
     "output_type": "execute_result"
    }
   ],
   "source": [
    "np.ogrid[0:9.,0:6.]"
   ]
  },
  {
   "cell_type": "code",
   "execution_count": 89,
   "id": "762fee6d",
   "metadata": {},
   "outputs": [
    {
     "data": {
      "text/plain": [
       "(array([[1, 2, 4],\n",
       "        [1, 2, 4],\n",
       "        [1, 2, 4]]),\n",
       " array([[2, 2, 2],\n",
       "        [4, 4, 4],\n",
       "        [5, 5, 5]]))"
      ]
     },
     "execution_count": 89,
     "metadata": {},
     "output_type": "execute_result"
    }
   ],
   "source": [
    "np.meshgrid([1,2,4],[2,4,5])"
   ]
  },
  {
   "cell_type": "code",
   "execution_count": 90,
   "id": "790b0fdc",
   "metadata": {},
   "outputs": [
    {
     "data": {
      "text/plain": [
       "(array([[1],\n",
       "        [2],\n",
       "        [4]]),\n",
       " array([[2, 4, 5]]))"
      ]
     },
     "execution_count": 90,
     "metadata": {},
     "output_type": "execute_result"
    }
   ],
   "source": [
    "np.ix_([1,2,4],[2,4,5])"
   ]
  },
  {
   "cell_type": "code",
   "execution_count": 99,
   "id": "ea2c1345",
   "metadata": {},
   "outputs": [
    {
     "data": {
      "text/plain": [
       "array([[3, 3, 3, 3, 3, 3, 3, 3, 3, 3, 3, 3, 3, 3, 3, 3, 3, 3, 3, 3, 3, 3,\n",
       "        3, 3, 3, 3, 3],\n",
       "       [3, 3, 3, 3, 3, 3, 3, 3, 3, 3, 3, 3, 3, 3, 3, 3, 3, 3, 3, 3, 3, 3,\n",
       "        3, 3, 3, 3, 3],\n",
       "       [3, 3, 3, 3, 3, 3, 3, 3, 3, 3, 3, 3, 3, 3, 3, 3, 3, 3, 3, 3, 3, 3,\n",
       "        3, 3, 3, 3, 3],\n",
       "       [3, 3, 3, 3, 3, 3, 3, 3, 3, 3, 3, 3, 3, 3, 3, 3, 3, 3, 3, 3, 3, 3,\n",
       "        3, 3, 3, 3, 3],\n",
       "       [3, 3, 3, 3, 3, 3, 3, 3, 3, 3, 3, 3, 3, 3, 3, 3, 3, 3, 3, 3, 3, 3,\n",
       "        3, 3, 3, 3, 3],\n",
       "       [3, 3, 3, 3, 3, 3, 3, 3, 3, 3, 3, 3, 3, 3, 3, 3, 3, 3, 3, 3, 3, 3,\n",
       "        3, 3, 3, 3, 3],\n",
       "       [3, 3, 3, 3, 3, 3, 3, 3, 3, 3, 3, 3, 3, 3, 3, 3, 3, 3, 3, 3, 3, 3,\n",
       "        3, 3, 3, 3, 3],\n",
       "       [3, 3, 3, 3, 3, 3, 3, 3, 3, 3, 3, 3, 3, 3, 3, 3, 3, 3, 3, 3, 3, 3,\n",
       "        3, 3, 3, 3, 3],\n",
       "       [3, 3, 3, 3, 3, 3, 3, 3, 3, 3, 3, 3, 3, 3, 3, 3, 3, 3, 3, 3, 3, 3,\n",
       "        3, 3, 3, 3, 3],\n",
       "       [3, 3, 3, 3, 3, 3, 3, 3, 3, 3, 3, 3, 3, 3, 3, 3, 3, 3, 3, 3, 3, 3,\n",
       "        3, 3, 3, 3, 3],\n",
       "       [3, 3, 3, 3, 3, 3, 3, 3, 3, 3, 3, 3, 3, 3, 3, 3, 3, 3, 3, 3, 3, 3,\n",
       "        3, 3, 3, 3, 3],\n",
       "       [3, 3, 3, 3, 3, 3, 3, 3, 3, 3, 3, 3, 3, 3, 3, 3, 3, 3, 3, 3, 3, 3,\n",
       "        3, 3, 3, 3, 3],\n",
       "       [3, 3, 3, 3, 3, 3, 3, 3, 3, 3, 3, 3, 3, 3, 3, 3, 3, 3, 3, 3, 3, 3,\n",
       "        3, 3, 3, 3, 3],\n",
       "       [3, 3, 3, 3, 3, 3, 3, 3, 3, 3, 3, 3, 3, 3, 3, 3, 3, 3, 3, 3, 3, 3,\n",
       "        3, 3, 3, 3, 3],\n",
       "       [3, 3, 3, 3, 3, 3, 3, 3, 3, 3, 3, 3, 3, 3, 3, 3, 3, 3, 3, 3, 3, 3,\n",
       "        3, 3, 3, 3, 3],\n",
       "       [3, 3, 3, 3, 3, 3, 3, 3, 3, 3, 3, 3, 3, 3, 3, 3, 3, 3, 3, 3, 3, 3,\n",
       "        3, 3, 3, 3, 3],\n",
       "       [3, 3, 3, 3, 3, 3, 3, 3, 3, 3, 3, 3, 3, 3, 3, 3, 3, 3, 3, 3, 3, 3,\n",
       "        3, 3, 3, 3, 3],\n",
       "       [3, 3, 3, 3, 3, 3, 3, 3, 3, 3, 3, 3, 3, 3, 3, 3, 3, 3, 3, 3, 3, 3,\n",
       "        3, 3, 3, 3, 3]])"
      ]
     },
     "execution_count": 99,
     "metadata": {},
     "output_type": "execute_result"
    }
   ],
   "source": [
    "m, n = 2, 3\n",
    "np.tile(a, (m, n))"
   ]
  },
  {
   "cell_type": "code",
   "execution_count": 92,
   "id": "2dd140ec",
   "metadata": {},
   "outputs": [
    {
     "data": {
      "text/plain": [
       "array([[ 3,  3,  3,  3,  3,  3,  3,  3,  3, 81, 80, 79, 78, 77, 76, 75,\n",
       "        74, 73],\n",
       "       [ 3,  3,  3,  3,  3,  3,  3,  3,  3, 72, 71, 70, 69, 68, 67, 66,\n",
       "        65, 64],\n",
       "       [ 3,  3,  3,  3,  3,  3,  3,  3,  3, 63, 62, 61, 60, 59, 58, 57,\n",
       "        56, 55],\n",
       "       [ 3,  3,  3,  3,  3,  3,  3,  3,  3, 54, 53, 52, 51, 50, 49, 48,\n",
       "        47, 46],\n",
       "       [ 3,  3,  3,  3,  3,  3,  3,  3,  3, 45, 44, 43, 42, 41, 40, 39,\n",
       "        38, 37],\n",
       "       [ 3,  3,  3,  3,  3,  3,  3,  3,  3, 36, 35, 34, 33, 32, 31, 30,\n",
       "        29, 28],\n",
       "       [ 3,  3,  3,  3,  3,  3,  3,  3,  3, 27, 26, 25, 24, 23, 22, 21,\n",
       "        20, 19],\n",
       "       [ 3,  3,  3,  3,  3,  3,  3,  3,  3, 18, 17, 16, 15, 14, 13, 12,\n",
       "        11, 10],\n",
       "       [ 3,  3,  3,  3,  3,  3,  3,  3,  3,  9,  8,  7,  6,  5,  4,  3,\n",
       "         2,  1]])"
      ]
     },
     "execution_count": 92,
     "metadata": {},
     "output_type": "execute_result"
    }
   ],
   "source": [
    "np.concatenate((a,b),1)"
   ]
  },
  {
   "cell_type": "code",
   "execution_count": 93,
   "id": "ad44d25a",
   "metadata": {},
   "outputs": [
    {
     "data": {
      "text/plain": [
       "array([[ 3,  3,  3,  3,  3,  3,  3,  3,  3],\n",
       "       [ 3,  3,  3,  3,  3,  3,  3,  3,  3],\n",
       "       [ 3,  3,  3,  3,  3,  3,  3,  3,  3],\n",
       "       [ 3,  3,  3,  3,  3,  3,  3,  3,  3],\n",
       "       [ 3,  3,  3,  3,  3,  3,  3,  3,  3],\n",
       "       [ 3,  3,  3,  3,  3,  3,  3,  3,  3],\n",
       "       [ 3,  3,  3,  3,  3,  3,  3,  3,  3],\n",
       "       [ 3,  3,  3,  3,  3,  3,  3,  3,  3],\n",
       "       [ 3,  3,  3,  3,  3,  3,  3,  3,  3],\n",
       "       [81, 80, 79, 78, 77, 76, 75, 74, 73],\n",
       "       [72, 71, 70, 69, 68, 67, 66, 65, 64],\n",
       "       [63, 62, 61, 60, 59, 58, 57, 56, 55],\n",
       "       [54, 53, 52, 51, 50, 49, 48, 47, 46],\n",
       "       [45, 44, 43, 42, 41, 40, 39, 38, 37],\n",
       "       [36, 35, 34, 33, 32, 31, 30, 29, 28],\n",
       "       [27, 26, 25, 24, 23, 22, 21, 20, 19],\n",
       "       [18, 17, 16, 15, 14, 13, 12, 11, 10],\n",
       "       [ 9,  8,  7,  6,  5,  4,  3,  2,  1]])"
      ]
     },
     "execution_count": 93,
     "metadata": {},
     "output_type": "execute_result"
    }
   ],
   "source": [
    "np.concatenate((a,b))"
   ]
  },
  {
   "cell_type": "code",
   "execution_count": 94,
   "id": "83d9d340",
   "metadata": {},
   "outputs": [
    {
     "data": {
      "text/plain": [
       "np.int64(3)"
      ]
     },
     "execution_count": 94,
     "metadata": {},
     "output_type": "execute_result"
    }
   ],
   "source": [
    "np.nanmax(a)"
   ]
  },
  {
   "cell_type": "code",
   "execution_count": 95,
   "id": "0f882bf2",
   "metadata": {},
   "outputs": [
    {
     "data": {
      "text/plain": [
       "array([3, 3, 3, 3, 3, 3, 3, 3, 3])"
      ]
     },
     "execution_count": 95,
     "metadata": {},
     "output_type": "execute_result"
    }
   ],
   "source": [
    "a.max(0)"
   ]
  },
  {
   "cell_type": "code",
   "execution_count": 96,
   "id": "4229a724",
   "metadata": {},
   "outputs": [
    {
     "data": {
      "text/plain": [
       "array([3, 3, 3, 3, 3, 3, 3, 3, 3])"
      ]
     },
     "execution_count": 96,
     "metadata": {},
     "output_type": "execute_result"
    }
   ],
   "source": [
    "a.max(1)"
   ]
  },
  {
   "cell_type": "code",
   "execution_count": 97,
   "id": "8862e54b",
   "metadata": {},
   "outputs": [
    {
     "data": {
      "text/plain": [
       "array([[81, 80, 79, 78, 77, 76, 75, 74, 73],\n",
       "       [72, 71, 70, 69, 68, 67, 66, 65, 64],\n",
       "       [63, 62, 61, 60, 59, 58, 57, 56, 55],\n",
       "       [54, 53, 52, 51, 50, 49, 48, 47, 46],\n",
       "       [45, 44, 43, 42, 41, 40, 39, 38, 37],\n",
       "       [36, 35, 34, 33, 32, 31, 30, 29, 28],\n",
       "       [27, 26, 25, 24, 23, 22, 21, 20, 19],\n",
       "       [18, 17, 16, 15, 14, 13, 12, 11, 10],\n",
       "       [ 9,  8,  7,  6,  5,  4,  3,  3,  3]])"
      ]
     },
     "execution_count": 97,
     "metadata": {},
     "output_type": "execute_result"
    }
   ],
   "source": [
    "np.maximum(a, b)"
   ]
  },
  {
   "cell_type": "code",
   "execution_count": 98,
   "id": "ba90416d",
   "metadata": {},
   "outputs": [
    {
     "data": {
      "text/plain": [
       "np.float64(1.703672503740082)"
      ]
     },
     "execution_count": 98,
     "metadata": {},
     "output_type": "execute_result"
    }
   ],
   "source": [
    "np.linalg.norm(v)"
   ]
  },
  {
   "cell_type": "code",
   "execution_count": 102,
   "id": "33f95896",
   "metadata": {},
   "outputs": [
    {
     "data": {
      "text/plain": [
       "array([[ True,  True,  True,  True,  True,  True,  True,  True,  True],\n",
       "       [ True,  True,  True,  True,  True,  True,  True,  True,  True],\n",
       "       [ True,  True,  True,  True,  True,  True,  True,  True,  True],\n",
       "       [ True,  True,  True,  True,  True,  True,  True,  True,  True],\n",
       "       [ True,  True,  True,  True,  True,  True,  True,  True,  True],\n",
       "       [ True,  True,  True,  True,  True,  True,  True,  True,  True],\n",
       "       [ True,  True,  True,  True,  True,  True,  True,  True,  True],\n",
       "       [ True,  True,  True,  True,  True,  True,  True,  True,  True],\n",
       "       [ True,  True,  True,  True,  True,  True,  True,  True,  True]])"
      ]
     },
     "execution_count": 102,
     "metadata": {},
     "output_type": "execute_result"
    }
   ],
   "source": [
    "np.logical_and(a,b)"
   ]
  },
  {
   "cell_type": "code",
   "execution_count": 103,
   "id": "ab0ea455",
   "metadata": {},
   "outputs": [
    {
     "data": {
      "text/plain": [
       "array([[ True,  True,  True,  True,  True,  True,  True,  True,  True],\n",
       "       [ True,  True,  True,  True,  True,  True,  True,  True,  True],\n",
       "       [ True,  True,  True,  True,  True,  True,  True,  True,  True],\n",
       "       [ True,  True,  True,  True,  True,  True,  True,  True,  True],\n",
       "       [ True,  True,  True,  True,  True,  True,  True,  True,  True],\n",
       "       [ True,  True,  True,  True,  True,  True,  True,  True,  True],\n",
       "       [ True,  True,  True,  True,  True,  True,  True,  True,  True],\n",
       "       [ True,  True,  True,  True,  True,  True,  True,  True,  True],\n",
       "       [ True,  True,  True,  True,  True,  True,  True,  True,  True]])"
      ]
     },
     "execution_count": 103,
     "metadata": {},
     "output_type": "execute_result"
    }
   ],
   "source": [
    "np.logical_or(a,b)"
   ]
  },
  {
   "cell_type": "code",
   "execution_count": 104,
   "id": "ad3dd2a2",
   "metadata": {},
   "outputs": [
    {
     "data": {
      "text/plain": [
       "array([[1, 0, 3, 2, 1, 0, 3, 2, 1],\n",
       "       [0, 3, 2, 1, 0, 3, 2, 1, 0],\n",
       "       [3, 2, 1, 0, 3, 2, 1, 0, 3],\n",
       "       [2, 1, 0, 3, 2, 1, 0, 3, 2],\n",
       "       [1, 0, 3, 2, 1, 0, 3, 2, 1],\n",
       "       [0, 3, 2, 1, 0, 3, 2, 1, 0],\n",
       "       [3, 2, 1, 0, 3, 2, 1, 0, 3],\n",
       "       [2, 1, 0, 3, 2, 1, 0, 3, 2],\n",
       "       [1, 0, 3, 2, 1, 0, 3, 2, 1]])"
      ]
     },
     "execution_count": 104,
     "metadata": {},
     "output_type": "execute_result"
    }
   ],
   "source": [
    "a & b"
   ]
  },
  {
   "cell_type": "code",
   "execution_count": 105,
   "id": "fd81674a",
   "metadata": {},
   "outputs": [
    {
     "data": {
      "text/plain": [
       "array([[83, 83, 79, 79, 79, 79, 75, 75, 75],\n",
       "       [75, 71, 71, 71, 71, 67, 67, 67, 67],\n",
       "       [63, 63, 63, 63, 59, 59, 59, 59, 55],\n",
       "       [55, 55, 55, 51, 51, 51, 51, 47, 47],\n",
       "       [47, 47, 43, 43, 43, 43, 39, 39, 39],\n",
       "       [39, 35, 35, 35, 35, 31, 31, 31, 31],\n",
       "       [27, 27, 27, 27, 23, 23, 23, 23, 19],\n",
       "       [19, 19, 19, 15, 15, 15, 15, 11, 11],\n",
       "       [11, 11,  7,  7,  7,  7,  3,  3,  3]])"
      ]
     },
     "execution_count": 105,
     "metadata": {},
     "output_type": "execute_result"
    }
   ],
   "source": [
    "a | b"
   ]
  },
  {
   "cell_type": "code",
   "execution_count": 108,
   "id": "cb55b885",
   "metadata": {},
   "outputs": [
    {
     "data": {
      "text/plain": [
       "array([[ 2.,  5., -2.],\n",
       "       [ 0., -4.,  1.],\n",
       "       [-1., -2.,  1.]])"
      ]
     },
     "execution_count": 108,
     "metadata": {},
     "output_type": "execute_result"
    }
   ],
   "source": [
    "a = np.array([\n",
    "    [2, 1, 3],\n",
    "    [1, 0, 2],\n",
    "    [4, 1, 8]\n",
    "])\n",
    "\n",
    "np.linalg.inv(a)"
   ]
  },
  {
   "cell_type": "code",
   "execution_count": 109,
   "id": "88b75ad4",
   "metadata": {},
   "outputs": [
    {
     "data": {
      "text/plain": [
       "array([[ 2.00000000e+00,  5.00000000e+00, -2.00000000e+00],\n",
       "       [ 6.85453192e-16, -4.00000000e+00,  1.00000000e+00],\n",
       "       [-1.00000000e+00, -2.00000000e+00,  1.00000000e+00]])"
      ]
     },
     "execution_count": 109,
     "metadata": {},
     "output_type": "execute_result"
    }
   ],
   "source": [
    "np.linalg.pinv(a)"
   ]
  },
  {
   "cell_type": "code",
   "execution_count": 111,
   "id": "c0864f12",
   "metadata": {},
   "outputs": [
    {
     "name": "stdout",
     "output_type": "stream",
     "text": [
      "3\n"
     ]
    }
   ],
   "source": [
    "print(np.linalg.matrix_rank(a))"
   ]
  },
  {
   "cell_type": "code",
   "execution_count": 115,
   "id": "9db4ace2",
   "metadata": {},
   "outputs": [
    {
     "name": "stdout",
     "output_type": "stream",
     "text": [
      "[ 6. -5. -2.]\n"
     ]
    }
   ],
   "source": [
    "b = np.array([1, 2, 3])\n",
    "print(np.linalg.solve(a, b))"
   ]
  },
  {
   "cell_type": "code",
   "execution_count": 118,
   "id": "f6f1dc0f",
   "metadata": {},
   "outputs": [
    {
     "name": "stdout",
     "output_type": "stream",
     "text": [
      "[-1. -9.  3.]\n"
     ]
    }
   ],
   "source": [
    "print(np.linalg.solve(a.T, b.T).T)"
   ]
  },
  {
   "cell_type": "code",
   "execution_count": 121,
   "id": "8e073b69",
   "metadata": {},
   "outputs": [
    {
     "name": "stdout",
     "output_type": "stream",
     "text": [
      "[[-0.45831569  0.43237542 -0.77652961]\n",
      " [-0.12752272  0.83266363  0.53889632]\n",
      " [-0.87959348 -0.3460098   0.32648511]]\n"
     ]
    }
   ],
   "source": [
    "U, S, Vh = np.linalg.svd(a); V = Vh.T\n",
    "print(V)"
   ]
  },
  {
   "cell_type": "code",
   "execution_count": 123,
   "id": "8e37e7ac",
   "metadata": {},
   "outputs": [
    {
     "data": {
      "text/plain": [
       "array([[ 1.41421356,  0.        ,  0.        ],\n",
       "       [-0.70710678,  1.22474487,  0.        ],\n",
       "       [ 0.        , -0.81649658,  1.15470054]])"
      ]
     },
     "execution_count": 123,
     "metadata": {},
     "output_type": "execute_result"
    }
   ],
   "source": [
    "a = np.array([\n",
    "    [2, -1, 0],\n",
    "    [-1, 2, -1],\n",
    "    [0, -1, 2]\n",
    "])\n",
    "\n",
    "np.linalg.cholesky(a)"
   ]
  },
  {
   "cell_type": "code",
   "execution_count": 154,
   "id": "ab94d594",
   "metadata": {},
   "outputs": [
    {
     "name": "stdout",
     "output_type": "stream",
     "text": [
      "[3.41421356 2.         0.58578644]\n",
      "[[-5.00000000e-01 -7.07106781e-01  5.00000000e-01]\n",
      " [ 7.07106781e-01  6.68563842e-16  7.07106781e-01]\n",
      " [-5.00000000e-01  7.07106781e-01  5.00000000e-01]]\n"
     ]
    }
   ],
   "source": [
    "D,V = np.linalg.eig(a)\n",
    "print(D)\n",
    "print(V)"
   ]
  },
  {
   "cell_type": "code",
   "execution_count": 155,
   "id": "840535aa",
   "metadata": {},
   "outputs": [
    {
     "ename": "ImportError",
     "evalue": "cannot import name 'eig' from 'scipy.sparse.linalg' (/Users/nanjia/miniconda3/lib/python3.12/site-packages/scipy/sparse/linalg/__init__.py)",
     "output_type": "error",
     "traceback": [
      "\u001b[31m---------------------------------------------------------------------------\u001b[39m",
      "\u001b[31mImportError\u001b[39m                               Traceback (most recent call last)",
      "\u001b[36mCell\u001b[39m\u001b[36m \u001b[39m\u001b[32mIn[155]\u001b[39m\u001b[32m, line 1\u001b[39m\n\u001b[32m----> \u001b[39m\u001b[32m1\u001b[39m \u001b[38;5;28;01mfrom\u001b[39;00m\u001b[38;5;250m \u001b[39m\u001b[34;01mscipy\u001b[39;00m\u001b[34;01m.\u001b[39;00m\u001b[34;01msparse\u001b[39;00m\u001b[34;01m.\u001b[39;00m\u001b[34;01mlinalg\u001b[39;00m\u001b[38;5;250m \u001b[39m\u001b[38;5;28;01mimport\u001b[39;00m eig\n\u001b[32m      2\u001b[39m D,V = eigsh(a, k=\u001b[32m3\u001b[39m)\n",
      "\u001b[31mImportError\u001b[39m: cannot import name 'eig' from 'scipy.sparse.linalg' (/Users/nanjia/miniconda3/lib/python3.12/site-packages/scipy/sparse/linalg/__init__.py)"
     ]
    }
   ],
   "source": [
    "from scipy.sparse.linalg import eig\n",
    "D,V = eigsh(a, k=3)"
   ]
  },
  {
   "cell_type": "code",
   "execution_count": 144,
   "id": "37f7075d",
   "metadata": {},
   "outputs": [
    {
     "name": "stdout",
     "output_type": "stream",
     "text": [
      "[[-0.89442719 -0.35856858  0.26726124]\n",
      " [ 0.4472136  -0.71713717  0.53452248]\n",
      " [-0.          0.5976143   0.80178373]]\n",
      "[[-2.23606798  1.78885438 -0.4472136 ]\n",
      " [ 0.         -1.67332005  1.91236577]\n",
      " [ 0.          0.          1.06904497]]\n"
     ]
    }
   ],
   "source": [
    "Q,R = np.linalg.qr(a)\n",
    "print(Q)\n",
    "print(R)"
   ]
  },
  {
   "cell_type": "code",
   "execution_count": 172,
   "id": "f9487966",
   "metadata": {},
   "outputs": [
    {
     "name": "stdout",
     "output_type": "stream",
     "text": [
      "P:\n",
      " [[0. 1. 0.]\n",
      " [1. 0. 0.]\n",
      " [0. 0. 1.]]\n",
      "L:\n",
      " [[ 1.   0.   0. ]\n",
      " [ 0.5  1.   0. ]\n",
      " [-0.5  1.   1. ]]\n",
      "U:\n",
      " [[ 4. -6.  0.]\n",
      " [ 0.  4.  1.]\n",
      " [ 0.  0.  1.]]\n",
      "Check A == P @ L @ U: True\n"
     ]
    }
   ],
   "source": [
    "from scipy.linalg import lu\n",
    "\n",
    "A = np.array([[2., 1., 1.],\n",
    "              [4., -6., 0.],\n",
    "              [-2., 7., 2.]])\n",
    "\n",
    "P, L, U = lu(A)\n",
    "\n",
    "print(\"P:\\n\", P)\n",
    "print(\"L:\\n\", L)\n",
    "print(\"U:\\n\", U)\n",
    "print(\"Check A == P @ L @ U:\", np.allclose(A, P @ L @ U))"
   ]
  },
  {
   "cell_type": "code",
   "execution_count": 182,
   "id": "3eacacdd",
   "metadata": {},
   "outputs": [
    {
     "name": "stdout",
     "output_type": "stream",
     "text": [
      "Solution x: [0.09090909 0.63636364]\n",
      "info: 0\n"
     ]
    }
   ],
   "source": [
    "from scipy.sparse.linalg import cg\n",
    "A = np.array([[4, 1],\n",
    "              [1, 3]])\n",
    "\n",
    "B = np.array([1, 2])\n",
    "\n",
    "x, info = cg(A, B)\n",
    "\n",
    "print(\"Solution x:\", x)\n",
    "print(\"info:\", info) "
   ]
  },
  {
   "cell_type": "code",
   "execution_count": 183,
   "id": "744bd4ab",
   "metadata": {},
   "outputs": [
    {
     "data": {
      "text/plain": [
       "array([[ 1. +0.j        ,  2.5+0.8660254j ,  2.5-0.8660254j ],\n",
       "       [ 0. +0.j        , -1.5-2.59807621j, -1.5+2.59807621j],\n",
       "       [ 1. +0.j        , -0.5+2.59807621j, -0.5-2.59807621j]])"
      ]
     },
     "execution_count": 183,
     "metadata": {},
     "output_type": "execute_result"
    }
   ],
   "source": [
    "np.fft.fft(a)"
   ]
  },
  {
   "cell_type": "code",
   "execution_count": 174,
   "id": "40f20337",
   "metadata": {},
   "outputs": [
    {
     "data": {
      "text/plain": [
       "array([[ 0.33333333+0.j        ,  0.83333333-0.28867513j,\n",
       "         0.83333333+0.28867513j],\n",
       "       [ 0.        +0.j        , -0.5       +0.8660254j ,\n",
       "        -0.5       -0.8660254j ],\n",
       "       [ 0.33333333+0.j        , -0.16666667-0.8660254j ,\n",
       "        -0.16666667+0.8660254j ]])"
      ]
     },
     "execution_count": 174,
     "metadata": {},
     "output_type": "execute_result"
    }
   ],
   "source": [
    "np.fft.ifft(a)"
   ]
  },
  {
   "cell_type": "code",
   "execution_count": 175,
   "id": "1678225c",
   "metadata": {},
   "outputs": [
    {
     "data": {
      "text/plain": [
       "array([[-1,  0,  2],\n",
       "       [-1, -1,  2],\n",
       "       [-1,  0,  2]])"
      ]
     },
     "execution_count": 175,
     "metadata": {},
     "output_type": "execute_result"
    }
   ],
   "source": [
    "np.sort(a)"
   ]
  },
  {
   "cell_type": "code",
   "execution_count": 176,
   "id": "eeea8f0b",
   "metadata": {},
   "outputs": [
    {
     "data": {
      "text/plain": [
       "array([[-1,  0,  2],\n",
       "       [-1, -1,  2],\n",
       "       [-1,  0,  2]])"
      ]
     },
     "execution_count": 176,
     "metadata": {},
     "output_type": "execute_result"
    }
   ],
   "source": [
    "np.sort(a, axis=1)"
   ]
  },
  {
   "cell_type": "code",
   "execution_count": 177,
   "id": "4991cfc2",
   "metadata": {},
   "outputs": [
    {
     "name": "stdout",
     "output_type": "stream",
     "text": [
      "[[-1  2 -1]\n",
      " [ 0 -1  2]\n",
      " [ 2 -1  0]]\n"
     ]
    }
   ],
   "source": [
    "I = np.argsort(a[:, 0]); b = a[I,:]\n",
    "print(b)"
   ]
  },
  {
   "cell_type": "code",
   "execution_count": 190,
   "id": "3bff6e49",
   "metadata": {},
   "outputs": [
    {
     "name": "stdout",
     "output_type": "stream",
     "text": [
      "x: [2.5]\n"
     ]
    }
   ],
   "source": [
    "Z = np.ones((4, 1))\n",
    "x, residuals, rank, s = np.linalg.lstsq(Z, y, rcond=None)\n",
    "print(\"x:\", x)"
   ]
  },
  {
   "cell_type": "code",
   "execution_count": 192,
   "id": "dcf50ff7",
   "metadata": {},
   "outputs": [
    {
     "name": "stdout",
     "output_type": "stream",
     "text": [
      "Original length: 12\n",
      "Resampled length: 4\n",
      "y: [ 3.5         2.76794919  5.5        10.23205081]\n"
     ]
    }
   ],
   "source": [
    "from scipy import signal\n",
    "\n",
    "x = np.arange(12)   \n",
    "\n",
    "y = signal.resample(x, int(np.ceil(len(x)/q))) \n",
    "print(\"Original length:\", len(x))\n",
    "print(\"Resampled length:\", len(y))\n",
    "print(\"y:\", y)"
   ]
  },
  {
   "cell_type": "code",
   "execution_count": 193,
   "id": "70e00159",
   "metadata": {},
   "outputs": [
    {
     "data": {
      "text/plain": [
       "array([-1,  0,  2])"
      ]
     },
     "execution_count": 193,
     "metadata": {},
     "output_type": "execute_result"
    }
   ],
   "source": [
    "np.unique(a)"
   ]
  },
  {
   "cell_type": "code",
   "execution_count": 194,
   "id": "5e70bd67",
   "metadata": {},
   "outputs": [
    {
     "data": {
      "text/plain": [
       "array([[ 2, -1,  0],\n",
       "       [-1,  2, -1],\n",
       "       [ 0, -1,  2]])"
      ]
     },
     "execution_count": 194,
     "metadata": {},
     "output_type": "execute_result"
    }
   ],
   "source": [
    "a.squeeze()"
   ]
  },
  {
   "cell_type": "code",
   "execution_count": 195,
   "id": "8a8be378",
   "metadata": {},
   "outputs": [
    {
     "data": {
      "image/png": "[encoded data removed]",
      "text/plain": [
       "<Figure size 640x480 with 1 Axes>"
      ]
     },
     "metadata": {},
     "output_type": "display_data"
    }
   ],
   "source": [
    "# Task 3\n",
    "import matplotlib.pyplot as plt\n",
    "plt.plot([1,2,3,4], [1,2,7,14])\n",
    "plt.axis([0, 6, 0, 20])\n",
    "plt.show()"
   ]
  },
  {
   "cell_type": "code",
   "execution_count": 196,
   "id": "033e2432",
   "metadata": {},
   "outputs": [
    {
     "data": {
      "image/png": "[encoded data removed]",
      "text/plain": [
       "<Figure size 640x480 with 1 Axes>"
      ]
     },
     "metadata": {},
     "output_type": "display_data"
    }
   ],
   "source": [
    "# Task 4\n",
    "import numpy as np\n",
    "import matplotlib.pyplot as plt\n",
    "\n",
    "x = np.linspace(0, 2*np.pi, 200)\n",
    "plt.plot(x, np.sin(x), label=\"sin(x)\")\n",
    "plt.plot(x, np.sin(2*x), label=\"sin(2x)\")\n",
    "plt.title(\"Sine Waves\")\n",
    "plt.xlabel(\"x\")\n",
    "plt.ylabel(\"y\")\n",
    "plt.legend()\n",
    "plt.show()"
   ]
  },
  {
   "cell_type": "code",
   "execution_count": 197,
   "id": "c7e72626",
   "metadata": {},
   "outputs": [
    {
     "name": "stdout",
     "output_type": "stream",
     "text": [
      "My github page is: https://github.com/nsong14\n"
     ]
    }
   ],
   "source": [
    "# Task 5\n",
    "print('My github page is: https://github.com/nsong14')"
   ]
  },
  {
   "cell_type": "code",
   "execution_count": null,
   "id": "5a515034",
   "metadata": {},
   "outputs": [],
   "source": [
    "# Task 6\n"
   ]
  }
 ],
 "metadata": {
  "kernelspec": {
   "display_name": "base",
   "language": "python",
   "name": "python3"
  },
  "language_info": {
   "codemirror_mode": {
    "name": "ipython",
    "version": 3
   },
   "file_extension": ".py",
   "mimetype": "text/x-python",
   "name": "python",
   "nbconvert_exporter": "python",
   "pygments_lexer": "ipython3",
   "version": "3.12.9"
  }
 },
 "nbformat": 4,
 "nbformat_minor": 5
}
